{
  "nbformat": 4,
  "nbformat_minor": 0,
  "metadata": {
    "kernelspec": {
      "display_name": "Python 3",
      "language": "python",
      "name": "python3"
    },
    "language_info": {
      "codemirror_mode": {
        "name": "ipython",
        "version": 3
      },
      "file_extension": ".py",
      "mimetype": "text/x-python",
      "name": "python",
      "nbconvert_exporter": "python",
      "pygments_lexer": "ipython3",
      "version": "3.7.2"
    },
    "colab": {
      "name": "Copy of IFT6390_Lab1_01_Numpy.ipynb",
      "provenance": [],
      "collapsed_sections": [
        "T7l1nHkKd7ys"
      ],
      "include_colab_link": true
    }
  },
  "cells": [
    {
      "cell_type": "markdown",
      "metadata": {
        "id": "view-in-github",
        "colab_type": "text"
      },
      "source": [
        "<a href=\"https://colab.research.google.com/github/akaford/GitTestNew/blob/master/Copy_ofIFT6390_Lab1_01_Numpy.ipynb\" target=\"_parent\"><img src=\"https://colab.research.google.com/assets/colab-badge.svg\" alt=\"Open In Colab\"/></a>"
      ]
    },
    {
      "cell_type": "markdown",
      "metadata": {
        "id": "pBzebW4qd7xZ"
      },
      "source": [
        "# Python Review / Révision de Python  \n"
      ]
    },
    {
      "cell_type": "markdown",
      "metadata": {
        "id": "ebxs3SsqsjNt"
      },
      "source": [
        "D'abord, faire: 1, 4, 6, 7, 8, 9, 10, 11, 14, 15, 16, 17 (partiellement), 18, 19, 20, 21, 22, 23, 24"
      ]
    },
    {
      "cell_type": "markdown",
      "metadata": {
        "id": "d6pe0ySad7xa"
      },
      "source": [
        "Reviewing some basic concepts in Python\n",
        "\n",
        "* **`help` function**    \n",
        "    When needed, use `help` to get the information about a function and the parameters it takes (e.g. `help(range)`)\n",
        "    \n",
        "<hr />\n",
        "    \n",
        "Revoyons quelques concepts de base avec Python.\n",
        "\n",
        "* **fonction `help`**\n",
        "  \n",
        "  Au besoin, afin d'obtenir de l'information sur l'usage et les paramètres d'une fonction, utilisez help (ex: help(range)).\n"
      ]
    },
    {
      "cell_type": "code",
      "metadata": {
        "scrolled": true,
        "id": "bjsa1z9Fd7xb"
      },
      "source": [
        "help(range)"
      ],
      "execution_count": null,
      "outputs": []
    },
    {
      "cell_type": "markdown",
      "metadata": {
        "id": "wrLzbbdyd7xe"
      },
      "source": [
        "* **Data structure `list`**.\n",
        "\n",
        "A list is a sequence of items (numbers, or strings, etc.) For e.g., `a = [1, 2, 3, 4]`\n",
        "\n",
        "***Ex 1: Create a list with the numbers 0-9 (including 9) in increasing order using `range`. Then create one in decreasing order.***\n",
        "\n",
        "<hr />\n",
        "\n",
        "\n",
        "* **Structure de données `list`**.\n",
        "\n",
        "Une liste est une séquence d'items (des entiers, des chaînes de caractères, etc.). Par exemple, `a = [1, 2, 3, 4]`\n",
        "\n",
        "***Ex 1: Créez une liste en ordre croissant des nombres allant de 0 à 9 (incluant 9) en utilisant la fonction `range`. Créez une liste décroissante des mêmes nombres.***"
      ]
    },
    {
      "cell_type": "code",
      "metadata": {
        "id": "UQcVIBKdd7xf",
        "colab": {
          "base_uri": "https://localhost:8080/"
        },
        "outputId": "c7fa2f1e-987c-4668-adbf-a81cee02878c"
      },
      "source": [
        "# insert code here/ insérer votre code ici\n",
        "list_1 = list(range(0,10))\n",
        "print(list_1)\n",
        "list_2 = list(reversed(range(0,10)))\n",
        "print(list_2)"
      ],
      "execution_count": 7,
      "outputs": [
        {
          "output_type": "stream",
          "name": "stdout",
          "text": [
            "[0, 1, 2, 3, 4, 5, 6, 7, 8, 9]\n",
            "[9, 8, 7, 6, 5, 4, 3, 2, 1, 0]\n"
          ]
        }
      ]
    },
    {
      "cell_type": "markdown",
      "metadata": {
        "id": "OMum2Y_Cd7xh"
      },
      "source": [
        "* **Slicing a list**\n",
        "\n",
        "You can \"choose\" some elements of a list using square brackets with the index of the elements you want For example, `l[0]` returns the 1st element of the list `l`; `l[:4]` returns the first 4 elements.\n",
        "\n",
        "In general, \"slicing\" is done using `l[a:b:c]`, where `a` is the first element index you want to slice, `b` is the last index, `c` is the spacing between indices you slice.\n",
        "\n",
        "***Ex 2: Create a list of the numbers 0-9. Slice it to return only even numbers.***  \n",
        "***Ex 3: Create a list of the numbers 0-9. Slice it to return only odd numbers.***\n",
        "\n",
        "<hr />\n",
        "\n",
        "* **Découper une liste**.\n",
        "\n",
        "Il est possible de sélectionner des éléments d'une liste en utilisant l'index de ces éléments. Par exemple, `l[0]` retourne le premier élément de la liste `l` et `l[:4]` retourne les 4 premiers éléments.\n",
        "\n",
        "De manière générale, le <em>découpage</em> est utilisé comme suit `l[a:b:c]` où `a` représente l'index du premier élément à découper, `b` est l'index du dernier élément et `c` est le saut avec lequel ceux-ci sont découpés. \n",
        "\n",
        "***Ex 2: Créez une liste de nombres allant de 0 à 9. Découper cette liste pour y inclure seulement les nombres pairs.***  \n",
        "***Ex 3: Créez une liste de nombres allant de 0 à 9. Découper cette liste pour y inclure seulement les nombres impairs.***"
      ]
    },
    {
      "cell_type": "code",
      "metadata": {
        "id": "7wjhc0dwd7xi"
      },
      "source": [
        "# insert code here/ insérer votre code ici\n"
      ],
      "execution_count": null,
      "outputs": []
    },
    {
      "cell_type": "markdown",
      "metadata": {
        "id": "AU_9QEmad7xl"
      },
      "source": [
        "* **`for` loop**\n",
        "\n",
        "A `for` loop is a \"loop\" that runs until some condition is exhausted. For example, if `a` is a list of numbers,\n",
        "```\n",
        "for i in range(len(a)):\n",
        "    print(a[i])\n",
        "```\n",
        "prints each element in a.\n",
        "\n",
        "Note that the 1st line defines the loop condition, and every **indented** line after that defines what to do **for** each run of the loop (in this case, to print an element of `a`).\n",
        "\n",
        "***Ex 4: Create a list of numbers 0-9. Find its sum using a `for` loop, and print it.***\n",
        "\n",
        "\n",
        "<hr />\n",
        "\n",
        "\n",
        "* **Boucle `for`**\n",
        "\n",
        "Une boucle `for` est une <em>boucle</em> qui exécute jusqu'à ce qu'une condition soit remplie. Par exemple, si `a` est une liste de nombres:\n",
        "```\n",
        "for i in range(len(a)):\n",
        "    print(a[i])\n",
        "```\n",
        "\n",
        "imprime chaque élément de `a`.\n",
        "\n",
        "Notez que la première ligne définit la condition à remplir et chaque ligne ensuite contenant une indentation définit ce qu'il faut exécuter à chaque pas de la boucle (ici, il s'agit d'imprimer un élément de `a)`.\n",
        "\n",
        "\n",
        "***Ex 4: Créez une liste de nombres allant de 0 à 9. Trouvez la somme de ces éléments en utilisant une boucle `for` et ensuite imprimez la.***"
      ]
    },
    {
      "cell_type": "code",
      "metadata": {
        "id": "DWT_fu0Ld7xl"
      },
      "source": [
        "# insert code here/ insérer votre code ici\n"
      ],
      "execution_count": null,
      "outputs": []
    },
    {
      "cell_type": "markdown",
      "metadata": {
        "id": "XC-0IrLYd7xo"
      },
      "source": [
        "* **List of lists**\n",
        "\n",
        "A 2-dimensional matrix can be represented by a list of lists. For example,\n",
        "`m = [[1, 2], [3, 4], [5, 6], [7, 8]]` represents a 4x2 matrix.\n",
        "\n",
        "Each element of `m` can be accessed using square brackets. For example, `m[2]` returns the 3rd row of `m`; `m[2][0]` returns the 1st element in the 3rd row.\n",
        "\n",
        "***Ex 5: Create the above m. Calculate the sum of all its elements using a/multiple `for` loops.***\n",
        "\n",
        "\n",
        "<hr />\n",
        "\n",
        "\n",
        "* **Une liste de listes**\n",
        "\n",
        "Une matrice à 2 dimensions peut être représentée par une liste de listes. Par exemple, `m = [[1, 2], [3, 4], [5, 6], [7, 8]]` représente une matrice de dimension 4x2.\n",
        "\n",
        "Pour chaque élément de `m`; `m[2][0]` retourne le premier élément de la troisième ligne.\n",
        "\n",
        "***Ex 5: Créez ladite liste `m`. Calculez la somme de tous ses éléments en utilisant des boucles `for` imbriquées.***"
      ]
    },
    {
      "cell_type": "code",
      "metadata": {
        "id": "k9d_k-ESd7xo"
      },
      "source": [
        "# insert code here/ insérer votre code ici\n"
      ],
      "execution_count": null,
      "outputs": []
    },
    {
      "cell_type": "markdown",
      "metadata": {
        "id": "6Jr5lYLOd7xr"
      },
      "source": [
        "* **Defining functions with `def`**.      \n",
        "    this is how you define a function to add one to a number\n",
        "\n",
        "        def plus_one(s):\n",
        "            return s + 1\n",
        "\n",
        "    note the indentation! whitespace matters in Python!\n",
        "    \n",
        "<hr />\n",
        "    \n",
        "* **Définir des fonctions avec `def`**.      \n",
        "    Voici comment on pourrait définir une fonction \"plus un\":\n",
        "\n",
        "        def plus_un(s):\n",
        "            return s + 1\n",
        "\n",
        "    Notez l'importance de l'indentation!"
      ]
    },
    {
      "cell_type": "markdown",
      "metadata": {
        "id": "PBXNsDYqd7xr"
      },
      "source": [
        "# Numpy\n",
        "\n",
        "*Note*: if you're familiar with MATLAB, [this page](http://www.scipy.org/NumPy_for_Matlab_Users) will allow you to see the corresponding numpy terms to functions you already know.\n",
        "\n",
        "*Note:* Si vous êtes familier avec MATLAB, cette [page web](http://www.scipy.org/NumPy_for_Matlab_Users) vous permettra de consulter les principales correspondances matlab/numpy en terme de syntaxe.\n"
      ]
    },
    {
      "cell_type": "markdown",
      "metadata": {
        "id": "gagUo7Crd7xs"
      },
      "source": [
        "## Basics / Bases\n",
        "\n",
        "Numpy is a package in Python. It needs to be imported.\n",
        "\n",
        "Numpy est une librairie Python. Il faut ainsi l'importer."
      ]
    },
    {
      "cell_type": "code",
      "metadata": {
        "id": "ULy4S1qad7xt"
      },
      "source": [
        "import numpy as np"
      ],
      "execution_count": null,
      "outputs": []
    },
    {
      "cell_type": "markdown",
      "metadata": {
        "id": "yrHGwdhXd7xw"
      },
      "source": [
        "All documentation for every function in numpy can be found in its [docs](https://docs.scipy.org/doc/numpy/reference/). It is a good practice to keep referring to the docs to understand any function you use, and its proper syntax.\n",
        "\n",
        "***Ex 6: using `np.arange`, create an array of the numbers 0-9***\n",
        "\n",
        "<hr />\n",
        "\n",
        "Toute la documentation pour chacune des fonctions numpy se retrouve ici [docs](https://docs.scipy.org/doc/numpy/reference/). Une bonne habitude est de se réferer à la documentation afin de bien comprendre une fonction utilisée et sa syntaxe.\n",
        "\n",
        "***Ex 6: utilisez `np.arange` afin de créer un tableau des nombres 0 à 9***"
      ]
    },
    {
      "cell_type": "code",
      "metadata": {
        "id": "dKPkCdy9d7xw"
      },
      "source": [
        "# insert code here/ insérer votre code ici\n"
      ],
      "execution_count": null,
      "outputs": []
    },
    {
      "cell_type": "markdown",
      "metadata": {
        "id": "HQUVAHyBd7x0"
      },
      "source": [
        "\n",
        "***Ex 7: print the `type` of the array***\n",
        "\n",
        "***Ex 8: print the `type` of the first element in the array***\n",
        "\n",
        "***Ex 9: print the `shape` of the array***\n",
        "\n",
        "<hr />\n",
        "\n",
        "***Ex 7: imprimez le `type` de votre tableau***\n",
        "\n",
        "***Ex 8: imprimez le `type` du premier élément de votre tableau***\n",
        "\n",
        "***Ex 9: imprimez la dimension (`shape`) du tableau***\n",
        "\n"
      ]
    },
    {
      "cell_type": "code",
      "metadata": {
        "id": "Hk_O-034d7x0"
      },
      "source": [
        "# insert code here/ insérer votre code ici\n"
      ],
      "execution_count": null,
      "outputs": []
    },
    {
      "cell_type": "markdown",
      "metadata": {
        "id": "HUxOpxcCd7x4"
      },
      "source": [
        "We see that the array is of the type `numpy.ndarray`: \"Numpy n-dimensional array\", while each element in it is an integer.\n",
        "\n",
        "***Ex 10: Print the numbers at the 3rd to the 6th index in the array using slicing `[:]`***\n",
        "\n",
        "<hr />\n",
        "\n",
        "On remarque que le tableau est de type `numpy.ndarray`: \"Numpy n-dimensional array\" et que chaque élément est un entier.\n",
        "\n",
        "***Ex 10: Accédez aux éléments 3 à 6 à l'aide de l'opérateur «`[:]`».***"
      ]
    },
    {
      "cell_type": "code",
      "metadata": {
        "id": "758_y9fMd7x5"
      },
      "source": [
        "# insert code here/ insérer votre code ici\n"
      ],
      "execution_count": null,
      "outputs": []
    },
    {
      "cell_type": "markdown",
      "metadata": {
        "id": "JL0sZGCMd7x8"
      },
      "source": [
        "***Ex 11: Create a list of the numbers 0-9, convert it into a numpy array using `np.array`***\n",
        "\n",
        "<hr />\n",
        "\n",
        "***Ex 11: Créez une liste des nombres 0 à 9 et convertissez la en tableau en utilisant `np.array`***"
      ]
    },
    {
      "cell_type": "code",
      "metadata": {
        "id": "p7m_nkMKd7x8"
      },
      "source": [
        "# insert code here/ insérer votre code ici\n"
      ],
      "execution_count": null,
      "outputs": []
    },
    {
      "cell_type": "markdown",
      "metadata": {
        "id": "fdJS_Mp4d7x_"
      },
      "source": [
        "***Ex 12: Create a list of lists of size 4x2 (like the one we did earlier). Convert it into a numpy array, check its shape.***\n",
        "\n",
        "<hr />\n",
        "\n",
        "***Ex 12: Créez une liste de listes de dimension 4x2 (comme celle que nous avons définie précédemment). Convertissez la en tableau et vérifiez sa dimension.***"
      ]
    },
    {
      "cell_type": "code",
      "metadata": {
        "id": "5grfYu2_d7yA"
      },
      "source": [
        "# insert code here/ insérer votre code ici\n"
      ],
      "execution_count": null,
      "outputs": []
    },
    {
      "cell_type": "markdown",
      "metadata": {
        "id": "JRzu3DrUd7yC"
      },
      "source": [
        "***Ex 13: Find the sum of all the elements in this numpy array using `np.sum`. Then, find the sum along the 1st axis.*** Think about what shape the sum must be, and then verify.\n",
        "\n",
        "<hr />\n",
        "\n",
        "***Ex 13: Trouvez la somme de tous les éléments du tableau en utilisant `np.sum`. Ensuite, trouvez la somme selon la première dimension*** Pensez à la dimension que cette somme devrait avoir et vérifiez la.\n"
      ]
    },
    {
      "cell_type": "code",
      "metadata": {
        "id": "sSjxqdlKd7yD"
      },
      "source": [
        "# insert code here/ insérer votre code ici\n"
      ],
      "execution_count": null,
      "outputs": []
    },
    {
      "cell_type": "markdown",
      "metadata": {
        "id": "tQP17PGhd7yF"
      },
      "source": [
        "## Statistics/ Statistiques"
      ]
    },
    {
      "cell_type": "markdown",
      "metadata": {
        "id": "EiFcgNPld7yG"
      },
      "source": [
        "Now we're going to generate data points and verify statistics\n",
        "\n",
        "***Ex 14: Create a 2D array `o` of shape (100, 2) filled with the number 1 using `np.ones`***\n",
        "\n",
        "<hr />\n",
        "\n",
        "Nous allons maintenant générer des points et vérifiez certaines de leurs statistiques.\n",
        "\n",
        "***Ex 14: Créez un tableau 2D `o` de dimension (100, 2) composé uniquement de 1 en utilisant `np.ones`***"
      ]
    },
    {
      "cell_type": "code",
      "metadata": {
        "id": "VhJqR2zpd7yG"
      },
      "source": [
        "# insert code here/ insérer votre code ici\n"
      ],
      "execution_count": null,
      "outputs": []
    },
    {
      "cell_type": "markdown",
      "metadata": {
        "id": "zf6-sAS-d7yI"
      },
      "source": [
        "***Ex 15: Create a 2D array `n` of shape (100, 2) filled with samples from a normal distribution with mean 2.5 and standard deviation 1.2 using `np.random.normal`.***\n",
        "\n",
        "<hr />\n",
        "\n",
        "***Ex 15: Créez une tableau 2D `n` de dimension (100,2) composés de points provenant d'une distribution de loi normale avec une moyenne de 2.5 et un écart-type de 1.2. Utilisez la fonction `np.random.normal`.***"
      ]
    },
    {
      "cell_type": "code",
      "metadata": {
        "id": "zhzt-schd7yJ"
      },
      "source": [
        "# insert code here/ insérer votre code ici\n"
      ],
      "execution_count": null,
      "outputs": []
    },
    {
      "cell_type": "markdown",
      "metadata": {
        "id": "BsSKRq6-d7yN"
      },
      "source": [
        "***Ex 16: Using slicing, assign the first column of `o` as values from the 2nd column of `n`***\n",
        "\n",
        "<hr />\n",
        "\n",
        "***Ex 16: En utilisant le découpage, remplacez les valeurs de la première colonne de `o` avec les valeurs de la deuxième colonne de `n`.***\n"
      ]
    },
    {
      "cell_type": "code",
      "metadata": {
        "id": "qzi_72lzd7yO"
      },
      "source": [
        "# insert code here/ insérer votre code ici\n"
      ],
      "execution_count": null,
      "outputs": []
    },
    {
      "cell_type": "markdown",
      "metadata": {
        "id": "rAAsSJOVd7yT"
      },
      "source": [
        "***Ex 17: Calculate the mean and std of ech column of `o` using `np.mean` and `np.std`.*** Verify that they are (almost) correct.\n",
        "\n",
        "<hr />\n",
        "\n",
        "***Ex 17: Calculez la moyenne et l'écart-type de chaque colonne de `o` en utilisant `np.mean` et `np.std`.*** Vérifiez si ces valeurs sont approximativement exactes."
      ]
    },
    {
      "cell_type": "code",
      "metadata": {
        "id": "Hq1br9Xxd7yU"
      },
      "source": [
        "# insert code here/ insérer votre code ici\n"
      ],
      "execution_count": null,
      "outputs": []
    },
    {
      "cell_type": "markdown",
      "metadata": {
        "id": "4b2EKXDQd7yX"
      },
      "source": [
        "# Fun with the IRIS dataset / Exploration du jeu de données IRIS"
      ]
    },
    {
      "cell_type": "markdown",
      "metadata": {
        "id": "RqlUIqsRd7yY"
      },
      "source": [
        "We're now going to work with some real data! We'll use the [IRIS](http://en.wikipedia.org/wiki/Iris_flower_data_set) dataset which you can download [here](http://www.iro.umontreal.ca/%7Edift3395/files/iris.txt).\n",
        "<hr />\n",
        "\n",
        "Nous allons maintenant travailler avec de vraies données! Nous allons utiliser le jeu de données [IRIS](http://en.wikipedia.org/wiki/Iris_flower_data_set) dont vous pouvez télécharger [ici](http://www.iro.umontreal.ca/%7Edift3395/files/iris.txt)."
      ]
    },
    {
      "cell_type": "code",
      "metadata": {
        "id": "YqUG1_abd7yY"
      },
      "source": [
        "import sys\n",
        "IN_COLAB = 'google.colab' in sys.modules\n",
        "if IN_COLAB:\n",
        "  iris = np.loadtxt('http://www.iro.umontreal.ca/~dift3395/files/iris.txt')\n",
        "else:\n",
        "  iris = np.loadtxt('iris.txt')"
      ],
      "execution_count": null,
      "outputs": []
    },
    {
      "cell_type": "markdown",
      "metadata": {
        "id": "4gVBDeOrd7yb"
      },
      "source": [
        "The IRIS dataset consists of 150 data points. Each data point is a description of a flower using 4 features - petal length, petal width, sepal length, sepal width. The dataset also contains the species of the flower. Thus, the samples form the 1st axis of this np array, and (the features + the species) form the 2nd axis of the array.\n",
        "\n",
        "Let's play around with the *array* of iris data\n",
        "\n",
        "* print the shape of the array\n",
        "* print all the elements of the array\n",
        "\n",
        "\n",
        "<hr />\n",
        "\n",
        "Le dataset IRIS consiste en 150 points de données. Chaque exemple (point) représente une description d'une fleur à l'aide de 4 variables, soient la longueur des pétales, la largeur des pétales, la longueur des sépales et la largeur des sépales. Ce jeu de données contient également l'espèce de la fleur. La première dimension représente ainsi les différents exemples et la deuxième dimension représente les variables et l'espèce de ces exemples.\n",
        "\n",
        "\n",
        "Explorons le tableau de donnees\n",
        "\n",
        "* imprimez la dimension du tableau\n",
        "* imprimez les éléments du tableau"
      ]
    },
    {
      "cell_type": "code",
      "metadata": {
        "id": "0wBwLYUJd7yf",
        "colab": {
          "base_uri": "https://localhost:8080/"
        },
        "outputId": "39ea1e6d-2cb5-4f08-ec86-b7bf3ade01d0"
      },
      "source": [
        "print(iris.shape)\n",
        "print(iris)"
      ],
      "execution_count": null,
      "outputs": [
        {
          "output_type": "stream",
          "name": "stdout",
          "text": [
            "(150, 5)\n",
            "[[5.1 3.5 1.4 0.2 1. ]\n",
            " [4.9 3.  1.4 0.2 1. ]\n",
            " [4.7 3.2 1.3 0.2 1. ]\n",
            " [4.6 3.1 1.5 0.2 1. ]\n",
            " [5.  3.6 1.4 0.2 1. ]\n",
            " [5.4 3.9 1.7 0.4 1. ]\n",
            " [4.6 3.4 1.4 0.3 1. ]\n",
            " [5.  3.4 1.5 0.2 1. ]\n",
            " [4.4 2.9 1.4 0.2 1. ]\n",
            " [4.9 3.1 1.5 0.1 1. ]\n",
            " [5.4 3.7 1.5 0.2 1. ]\n",
            " [4.8 3.4 1.6 0.2 1. ]\n",
            " [4.8 3.  1.4 0.1 1. ]\n",
            " [4.3 3.  1.1 0.1 1. ]\n",
            " [5.8 4.  1.2 0.2 1. ]\n",
            " [5.7 4.4 1.5 0.4 1. ]\n",
            " [5.4 3.9 1.3 0.4 1. ]\n",
            " [5.1 3.5 1.4 0.3 1. ]\n",
            " [5.7 3.8 1.7 0.3 1. ]\n",
            " [5.1 3.8 1.5 0.3 1. ]\n",
            " [5.4 3.4 1.7 0.2 1. ]\n",
            " [5.1 3.7 1.5 0.4 1. ]\n",
            " [4.6 3.6 1.  0.2 1. ]\n",
            " [5.1 3.3 1.7 0.5 1. ]\n",
            " [4.8 3.4 1.9 0.2 1. ]\n",
            " [5.  3.  1.6 0.2 1. ]\n",
            " [5.  3.4 1.6 0.4 1. ]\n",
            " [5.2 3.5 1.5 0.2 1. ]\n",
            " [5.2 3.4 1.4 0.2 1. ]\n",
            " [4.7 3.2 1.6 0.2 1. ]\n",
            " [4.8 3.1 1.6 0.2 1. ]\n",
            " [5.4 3.4 1.5 0.4 1. ]\n",
            " [5.2 4.1 1.5 0.1 1. ]\n",
            " [5.5 4.2 1.4 0.2 1. ]\n",
            " [4.9 3.1 1.5 0.2 1. ]\n",
            " [5.  3.2 1.2 0.2 1. ]\n",
            " [5.5 3.5 1.3 0.2 1. ]\n",
            " [4.9 3.6 1.4 0.1 1. ]\n",
            " [4.4 3.  1.3 0.2 1. ]\n",
            " [5.1 3.4 1.5 0.2 1. ]\n",
            " [5.  3.5 1.3 0.3 1. ]\n",
            " [4.5 2.3 1.3 0.3 1. ]\n",
            " [4.4 3.2 1.3 0.2 1. ]\n",
            " [5.  3.5 1.6 0.6 1. ]\n",
            " [5.1 3.8 1.9 0.4 1. ]\n",
            " [4.8 3.  1.4 0.3 1. ]\n",
            " [5.1 3.8 1.6 0.2 1. ]\n",
            " [4.6 3.2 1.4 0.2 1. ]\n",
            " [5.3 3.7 1.5 0.2 1. ]\n",
            " [5.  3.3 1.4 0.2 1. ]\n",
            " [7.  3.2 4.7 1.4 2. ]\n",
            " [6.4 3.2 4.5 1.5 2. ]\n",
            " [6.9 3.1 4.9 1.5 2. ]\n",
            " [5.5 2.3 4.  1.3 2. ]\n",
            " [6.5 2.8 4.6 1.5 2. ]\n",
            " [5.7 2.8 4.5 1.3 2. ]\n",
            " [6.3 3.3 4.7 1.6 2. ]\n",
            " [4.9 2.4 3.3 1.  2. ]\n",
            " [6.6 2.9 4.6 1.3 2. ]\n",
            " [5.2 2.7 3.9 1.4 2. ]\n",
            " [5.  2.  3.5 1.  2. ]\n",
            " [5.9 3.  4.2 1.5 2. ]\n",
            " [6.  2.2 4.  1.  2. ]\n",
            " [6.1 2.9 4.7 1.4 2. ]\n",
            " [5.6 2.9 3.6 1.3 2. ]\n",
            " [6.7 3.1 4.4 1.4 2. ]\n",
            " [5.6 3.  4.5 1.5 2. ]\n",
            " [5.8 2.7 4.1 1.  2. ]\n",
            " [6.2 2.2 4.5 1.5 2. ]\n",
            " [5.6 2.5 3.9 1.1 2. ]\n",
            " [5.9 3.2 4.8 1.8 2. ]\n",
            " [6.1 2.8 4.  1.3 2. ]\n",
            " [6.3 2.5 4.9 1.5 2. ]\n",
            " [6.1 2.8 4.7 1.2 2. ]\n",
            " [6.4 2.9 4.3 1.3 2. ]\n",
            " [6.6 3.  4.4 1.4 2. ]\n",
            " [6.8 2.8 4.8 1.4 2. ]\n",
            " [6.7 3.  5.  1.7 2. ]\n",
            " [6.  2.9 4.5 1.5 2. ]\n",
            " [5.7 2.6 3.5 1.  2. ]\n",
            " [5.5 2.4 3.8 1.1 2. ]\n",
            " [5.5 2.4 3.7 1.  2. ]\n",
            " [5.8 2.7 3.9 1.2 2. ]\n",
            " [6.  2.7 5.1 1.6 2. ]\n",
            " [5.4 3.  4.5 1.5 2. ]\n",
            " [6.  3.4 4.5 1.6 2. ]\n",
            " [6.7 3.1 4.7 1.5 2. ]\n",
            " [6.3 2.3 4.4 1.3 2. ]\n",
            " [5.6 3.  4.1 1.3 2. ]\n",
            " [5.5 2.5 4.  1.3 2. ]\n",
            " [5.5 2.6 4.4 1.2 2. ]\n",
            " [6.1 3.  4.6 1.4 2. ]\n",
            " [5.8 2.6 4.  1.2 2. ]\n",
            " [5.  2.3 3.3 1.  2. ]\n",
            " [5.6 2.7 4.2 1.3 2. ]\n",
            " [5.7 3.  4.2 1.2 2. ]\n",
            " [5.7 2.9 4.2 1.3 2. ]\n",
            " [6.2 2.9 4.3 1.3 2. ]\n",
            " [5.1 2.5 3.  1.1 2. ]\n",
            " [5.7 2.8 4.1 1.3 2. ]\n",
            " [6.3 3.3 6.  2.5 3. ]\n",
            " [5.8 2.7 5.1 1.9 3. ]\n",
            " [7.1 3.  5.9 2.1 3. ]\n",
            " [6.3 2.9 5.6 1.8 3. ]\n",
            " [6.5 3.  5.8 2.2 3. ]\n",
            " [7.6 3.  6.6 2.1 3. ]\n",
            " [4.9 2.5 4.5 1.7 3. ]\n",
            " [7.3 2.9 6.3 1.8 3. ]\n",
            " [6.7 2.5 5.8 1.8 3. ]\n",
            " [7.2 3.6 6.1 2.5 3. ]\n",
            " [6.5 3.2 5.1 2.  3. ]\n",
            " [6.4 2.7 5.3 1.9 3. ]\n",
            " [6.8 3.  5.5 2.1 3. ]\n",
            " [5.7 2.5 5.  2.  3. ]\n",
            " [5.8 2.8 5.1 2.4 3. ]\n",
            " [6.4 3.2 5.3 2.3 3. ]\n",
            " [6.5 3.  5.5 1.8 3. ]\n",
            " [7.7 3.8 6.7 2.2 3. ]\n",
            " [7.7 2.6 6.9 2.3 3. ]\n",
            " [6.  2.2 5.  1.5 3. ]\n",
            " [6.9 3.2 5.7 2.3 3. ]\n",
            " [5.6 2.8 4.9 2.  3. ]\n",
            " [7.7 2.8 6.7 2.  3. ]\n",
            " [6.3 2.7 4.9 1.8 3. ]\n",
            " [6.7 3.3 5.7 2.1 3. ]\n",
            " [7.2 3.2 6.  1.8 3. ]\n",
            " [6.2 2.8 4.8 1.8 3. ]\n",
            " [6.1 3.  4.9 1.8 3. ]\n",
            " [6.4 2.8 5.6 2.1 3. ]\n",
            " [7.2 3.  5.8 1.6 3. ]\n",
            " [7.4 2.8 6.1 1.9 3. ]\n",
            " [7.9 3.8 6.4 2.  3. ]\n",
            " [6.4 2.8 5.6 2.2 3. ]\n",
            " [6.3 2.8 5.1 1.5 3. ]\n",
            " [6.1 2.6 5.6 1.4 3. ]\n",
            " [7.7 3.  6.1 2.3 3. ]\n",
            " [6.3 3.4 5.6 2.4 3. ]\n",
            " [6.4 3.1 5.5 1.8 3. ]\n",
            " [6.  3.  4.8 1.8 3. ]\n",
            " [6.9 3.1 5.4 2.1 3. ]\n",
            " [6.7 3.1 5.6 2.4 3. ]\n",
            " [6.9 3.1 5.1 2.3 3. ]\n",
            " [5.8 2.7 5.1 1.9 3. ]\n",
            " [6.8 3.2 5.9 2.3 3. ]\n",
            " [6.7 3.3 5.7 2.5 3. ]\n",
            " [6.7 3.  5.2 2.3 3. ]\n",
            " [6.3 2.5 5.  1.9 3. ]\n",
            " [6.5 3.  5.2 2.  3. ]\n",
            " [6.2 3.4 5.4 2.3 3. ]\n",
            " [5.9 3.  5.1 1.8 3. ]]\n"
          ]
        }
      ]
    },
    {
      "cell_type": "markdown",
      "metadata": {
        "id": "RFK7lp0hd7yj"
      },
      "source": [
        "Accessing an element in a `np.array` is similar but not the same as a python `list`\n",
        "\n",
        "***Ex 18: Get the first element (i.e. index 0,0) of `iris` using `[][]`.***\n",
        "\n",
        "***Ex 19: Get the first element of the `np.array` using just `[,]` syntax.***\n",
        "\n",
        "<hr />\n",
        "\n",
        "\n",
        "Acccéder un élément d'un tableau est similaire, mais pas tout à fait pareil à une liste python\n",
        "\n",
        "***Ex 18: Obtenez le premier élément (i.e. index 0,0) du dataset iris en utilisant `[][]`.***\n",
        "\n",
        "***Ex 19: Obtenez le premier élément du tableau en utilisant la syntaxe `[,]`.*** \n"
      ]
    },
    {
      "cell_type": "code",
      "metadata": {
        "id": "SrBHuX3Fd7yk"
      },
      "source": [
        "# insert code here/ insérer votre code ici\n"
      ],
      "execution_count": null,
      "outputs": []
    },
    {
      "cell_type": "markdown",
      "metadata": {
        "id": "geCvChmid7ym"
      },
      "source": [
        "The advantage of `numpy` slicing is that you can access multiple dimensions (`axis`) at the same time\n",
        "\n",
        "***Ex 20: Slice the 4 features of the first 10 samples of the IRIS dataset.***\n",
        "\n",
        "<hr />\n",
        "\n",
        "L'avantage du découpage `numpy` est qu'il est possible d'accéder plusieurs dimensions (`axis`) simultanément\n",
        "\n",
        "\n",
        "***Ex 20: Découpez les 4 variables des 10 premiers exemples du dataset IRIS.***"
      ]
    },
    {
      "cell_type": "code",
      "metadata": {
        "id": "oQfLbgkKd7yn"
      },
      "source": [
        "# insert code here/ insérer votre code ici\n"
      ],
      "execution_count": null,
      "outputs": []
    },
    {
      "cell_type": "markdown",
      "metadata": {
        "id": "IxDuNkCQrRH_"
      },
      "source": [
        ""
      ]
    },
    {
      "cell_type": "markdown",
      "metadata": {
        "id": "klKQga-Iq7Kw"
      },
      "source": [
        ""
      ]
    },
    {
      "cell_type": "markdown",
      "metadata": {
        "id": "Rx_6baFGd7yp"
      },
      "source": [
        "***Ex 21: Using negative index, print the last column of `iris`.***\n",
        "\n",
        "<hr />\n",
        "\n",
        "***Ex 21: Utilisez une indexation négative afin d'imprimer la dernière colonne de `iris`.***"
      ]
    },
    {
      "cell_type": "code",
      "metadata": {
        "id": "EKZyUId2d7yq"
      },
      "source": [
        "# insert code here/ insérer votre code ici\n"
      ],
      "execution_count": null,
      "outputs": []
    },
    {
      "cell_type": "markdown",
      "metadata": {
        "id": "T7l1nHkKd7ys"
      },
      "source": [
        "## Some useful `numpy` functions / Quelques fonctions `numpy` utiles"
      ]
    },
    {
      "cell_type": "markdown",
      "metadata": {
        "id": "CmqLujc1d7yt"
      },
      "source": [
        "**min**, **max** : minimum and maximum elements of an array (can also be done across an `axis`)\n",
        "\n",
        "<hr />\n",
        "\n",
        "**min**, **max** : éléments minimum and maximum d'un tableau (peut également se faire selon une dimension `axis`)\n",
        "\n",
        "<br/>"
      ]
    },
    {
      "cell_type": "markdown",
      "metadata": {
        "id": "pxR_hte9d7yt"
      },
      "source": [
        "**argmax**, **argmin** : the indices of the minimum and maximum elements of an array (can also be done across an `axis`)\n",
        "\n",
        "<hr />\n",
        "\n",
        "**argmax**, **argmin** : les indices des minimums ou maximums d'un tableau (peut également se faire selon une dimension `axis`)\n",
        "\n",
        "<br/>"
      ]
    },
    {
      "cell_type": "markdown",
      "metadata": {
        "id": "Xsge0wtBd7yu"
      },
      "source": [
        "**abs** : absolute value\n",
        "\n",
        "<hr />\n",
        "\n",
        "**abs** : valeur absolue\n",
        "\n",
        "<br/>"
      ]
    },
    {
      "cell_type": "markdown",
      "metadata": {
        "id": "DZtlnPg7d7yv"
      },
      "source": [
        "<b>pow or **</b> : exponentiation\n",
        "\n",
        "<hr />\n",
        "\n",
        "<b>pow or **</b> : exponentiation\n",
        "\n",
        "<br/>"
      ]
    },
    {
      "cell_type": "markdown",
      "metadata": {
        "id": "-uyTz0WXd7yw"
      },
      "source": [
        "**np.random.shuffle** : randomly shuffle the elements in the array\n",
        "\n",
        "<hr />\n",
        "\n",
        "**np.random.shuffle** : mélanger de manière aléatoire les éléments d'un tableau\n",
        "\n",
        "<br/>"
      ]
    },
    {
      "cell_type": "markdown",
      "metadata": {
        "id": "P_F9u80yd7yx"
      },
      "source": [
        "`numpy` has many more useful mathematical functions such as:\n",
        "\n",
        "`numpy` possède plusieurs autres fonction mathématiques utiles telles que:\n",
        "\n",
        "* numpy.mean\n",
        "* numpy.std\n",
        "* numpy.cov\n",
        "* numpy.dot\n",
        "* numpy.invert\n",
        "* numpy.unique\n",
        "* numpy.vsplit\n",
        "* numpy.vstack\n",
        "* numpy.hsplit\n",
        "* numpy.hstack\n",
        "\n",
        "You can find all of them on the [documentation](http://docs.scipy.org/doc/numpy/reference/index.html)\n",
        "\n",
        "***Ex Play: Play around with these!***\n",
        "\n",
        "Elle se retrouvent toutes dans la [documentation](http://docs.scipy.org/doc/numpy/reference/index.html)\n",
        "\n",
        "***Ex Play: Explorez avec ces fonctions!***"
      ]
    },
    {
      "cell_type": "markdown",
      "metadata": {
        "id": "Ko3-dKFTd7yy"
      },
      "source": [
        "# Plotting the flowers with Matplotlib"
      ]
    },
    {
      "cell_type": "markdown",
      "metadata": {
        "id": "k6IcIjWOd7yy"
      },
      "source": [
        "`matplotlib` is a great library for creating charts and graphs. Here are some practical function to visualize a dataset like `iris`.\n",
        "\n",
        "<hr />\n",
        "\n",
        "`matplotlib` est une excellente librairie pour créer des diagrammes et des graphiques. Voici quelques fonctions pratiques qui vous aidrons à visualiser le dataset `iris`. "
      ]
    },
    {
      "cell_type": "code",
      "metadata": {
        "id": "uc6cmC5dd7yz"
      },
      "source": [
        "import matplotlib.pyplot as plt"
      ],
      "execution_count": null,
      "outputs": []
    },
    {
      "cell_type": "markdown",
      "metadata": {
        "id": "x2_2Dmnid7y1"
      },
      "source": [
        "***Ex 22: Plot the histogram of the 2nd feature of every sample in the IRIS dataset using `plt.hist`. Make sure to include both x and y labels and a title.***\n",
        "\n",
        "<hr />\n",
        "\n",
        "***Ex 22: Tracez l'histogramme de la deuxième variable de chaque exemple du dataset IRIS en utilisant `plt.hist`. Assurez-vous d'inclure un titre ainsi que les étiquettes d'axes.***"
      ]
    },
    {
      "cell_type": "code",
      "metadata": {
        "id": "E9pF17cmd7y1"
      },
      "source": [
        "# insert code here/ insérer votre code ici\n"
      ],
      "execution_count": null,
      "outputs": []
    },
    {
      "cell_type": "markdown",
      "metadata": {
        "id": "CHOULcvwd7y3"
      },
      "source": [
        "***Ex 23: Plot a scatterplot, with the 3rd feature as the x-axis and the 4th feature as the y-axis using `plt.scatter`. Make sure to include both x and y labels and a title.***\n",
        "\n",
        "<hr />\n",
        "\n",
        "***Ex 23: Tracez un nuage de points avec la troisième variable sur l'axe des x et la quatrième variable sur l'axe des y en utilisant `plt.scatter`. Assurez-vous d'inclure un titre ainsi que les étiquettes d'axes.***\n"
      ]
    },
    {
      "cell_type": "code",
      "metadata": {
        "id": "2Zkgyn7Qd7y3"
      },
      "source": [
        "# insert code here/ insérer votre code ici\n"
      ],
      "execution_count": null,
      "outputs": []
    },
    {
      "cell_type": "markdown",
      "metadata": {
        "id": "LPIGBm4Rd7y6"
      },
      "source": [
        "***Ex 24: Plot the same scatter plot as above, but this time - color the points according to their corresponding \"species\". Make sure to include both x and y labels and a title.***\n",
        "\n",
        "<hr/>\n",
        "\n",
        "***Ex 24: Tracez le même nuage de points mais, colorez les points correspondant aux différentes espèces. Assurez-vous d'inclure un titre ainsi que les étiquettes d'axes.***"
      ]
    },
    {
      "cell_type": "code",
      "metadata": {
        "id": "nevoZ8dMd7y6"
      },
      "source": [
        "# insert code here/ insérer votre code ici\n"
      ],
      "execution_count": null,
      "outputs": []
    },
    {
      "cell_type": "markdown",
      "metadata": {
        "id": "EvhvaB3yd7y8"
      },
      "source": [
        "***Ex 25: Plot an errorbar around the average of each of the 4 features across the data samples, using `plt.bar`***\n",
        "\n",
        "<hr/>\n",
        "\n",
        "***Ex 25: Tracer une barre d'erreur autour des moyennes de chacune des 4 variables en utilisant `plt.bar`.***"
      ]
    },
    {
      "cell_type": "code",
      "metadata": {
        "id": "Z3Or_pGWd7y9"
      },
      "source": [
        "# insert code here/ insérer votre code ici\n"
      ],
      "execution_count": null,
      "outputs": []
    },
    {
      "cell_type": "markdown",
      "metadata": {
        "id": "MuShtqPYd7y_"
      },
      "source": [
        "***Ex 26: Create a sine wave. Create some gaussian noise. Plot the sine wave, and the sine wave with the noise added to it.***\n",
        "\n",
        "Try to create this image:\n",
        "\n",
        "<hr/>\n",
        "\n",
        "***Ex 26: Créez une courbe  sinusoïdale. Ajoutez-y maintenant du bruit gaussien. Tracez la courbe sinusoïdale sans et avec le bruit ajouté.***\n",
        "\n",
        "Essayez de recréer cette image:\n",
        "\n",
        "![reproduce](https://drive.google.com/uc?id=1p_eBFrYEZ9u_Vu2BFisfaQLLoSZbZqjS)"
      ]
    },
    {
      "cell_type": "code",
      "metadata": {
        "id": "GzIl4Xsxd7zA"
      },
      "source": [
        "# insert code here/ insérer votre code ici\n"
      ],
      "execution_count": null,
      "outputs": []
    },
    {
      "cell_type": "markdown",
      "metadata": {
        "id": "nas2MKpCd7zC"
      },
      "source": [
        "### This is just the beginning!\n",
        "\n",
        "You now have some of the basics down but you'll need more practise. Explore new functions and let's go through more tutorials!\n",
        "\n",
        "---\n",
        "\n",
        "### Ce n'est que le début!\n",
        "\n",
        "Vous possédez désormais certaines bases, mais il vous faut plus de pratique. Explorez de nouvelles fonctions et faisons plus de tutoriels!\n"
      ]
    }
  ]
}